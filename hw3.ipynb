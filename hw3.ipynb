{
 "cells": [
  {
   "cell_type": "markdown",
   "metadata": {},
   "source": [
    "## Prob 1.1 Random Matrices"
   ]
  },
  {
   "cell_type": "code",
   "execution_count": 41,
   "metadata": {
    "collapsed": false
   },
   "outputs": [],
   "source": [
    "import numpy as np\n",
    "import matplotlib.pyplot as plt\n",
    "%matplotlib inline\n",
    "\n",
    "np.random.seed(9)\n",
    "\n",
    "def wigner_symm(n):\n",
    "    W = np.random.randn(n,n)\n",
    "    for i in range(n):\n",
    "        for j in range(i, n):\n",
    "            if i == j:\n",
    "                W[i, i] += W[i, i]\n",
    "                continue\n",
    "            W[j, i] = W[i, j]\n",
    "    return W\n",
    "\n",
    "def one_over_sqrt_wigner_symm(n):\n",
    "    return wigner_symm(n)/np.sqrt(n)\n",
    "\n"
   ]
  },
  {
   "cell_type": "code",
   "execution_count": 44,
   "metadata": {
    "collapsed": false
   },
   "outputs": [
    {
     "data": {
      "text/plain": [
       "<matplotlib.collections.PathCollection at 0x11ad554d0>"
      ]
     },
     "execution_count": 44,
     "metadata": {},
     "output_type": "execute_result"
    },
    {
     "data": {
      "image/png": "[encoded data removed]",
      "text/plain": [
       "<matplotlib.figure.Figure at 0x11ad1f690>"
      ]
     },
     "metadata": {},
     "output_type": "display_data"
    }
   ],
   "source": [
    "n = 1500\n",
    "W = one_over_sqrt_wigner_symm(n)\n",
    "eigs = np.linalg.eigvals(W)\n",
    "plt.scatter(range(len(eigs)), eigs, color='r')\n"
   ]
  },
  {
   "cell_type": "code",
   "execution_count": 45,
   "metadata": {
    "collapsed": false
   },
   "outputs": [
    {
     "data": {
      "text/plain": [
       "(array([ 12.,  18.,  22.,  28.,  29.,  34.,  34.,  38.,  41.,  38.,  43.,\n",
       "         42.,  45.,  43.,  47.,  46.,  47.,  48.,  49.,  45.,  47.,  47.,\n",
       "         50.,  45.,  46.,  46.,  45.,  45.,  42.,  44.,  40.,  38.,  39.,\n",
       "         35.,  31.,  31.,  28.,  23.,  19.,  10.]),\n",
       " array([ -1.99507285e+00,  -1.89537159e+00,  -1.79567033e+00,\n",
       "         -1.69596906e+00,  -1.59626780e+00,  -1.49656654e+00,\n",
       "         -1.39686527e+00,  -1.29716401e+00,  -1.19746275e+00,\n",
       "         -1.09776148e+00,  -9.98060218e-01,  -8.98358955e-01,\n",
       "         -7.98657691e-01,  -6.98956428e-01,  -5.99255164e-01,\n",
       "         -4.99553901e-01,  -3.99852637e-01,  -3.00151374e-01,\n",
       "         -2.00450110e-01,  -1.00748847e-01,  -1.04758349e-03,\n",
       "          9.86536800e-02,   1.98354944e-01,   2.98056207e-01,\n",
       "          3.97757470e-01,   4.97458734e-01,   5.97159997e-01,\n",
       "          6.96861261e-01,   7.96562524e-01,   8.96263788e-01,\n",
       "          9.95965051e-01,   1.09566631e+00,   1.19536758e+00,\n",
       "          1.29506884e+00,   1.39477011e+00,   1.49447137e+00,\n",
       "          1.59417263e+00,   1.69387390e+00,   1.79357516e+00,\n",
       "          1.89327642e+00,   1.99297769e+00]),\n",
       " <a list of 40 Patch objects>)"
      ]
     },
     "execution_count": 45,
     "metadata": {},
     "output_type": "execute_result"
    },
    {
     "data": {
      "image/png": "[encoded data removed]",
      "text/plain": [
       "<matplotlib.figure.Figure at 0x11c068810>"
      ]
     },
     "metadata": {},
     "output_type": "display_data"
    }
   ],
   "source": [
    "plt.hist(eigs, bins=40, color='b')"
   ]
  },
  {
   "cell_type": "code",
   "execution_count": null,
   "metadata": {
    "collapsed": true
   },
   "outputs": [],
   "source": []
  }
 ],
 "metadata": {
  "kernelspec": {
   "display_name": "Python 2",
   "language": "python",
   "name": "python2"
  },
  "language_info": {
   "codemirror_mode": {
    "name": "ipython",
    "version": 2
   },
   "file_extension": ".py",
   "mimetype": "text/x-python",
   "name": "python",
   "nbconvert_exporter": "python",
   "pygments_lexer": "ipython2",
   "version": "2.7.13"
  }
 },
 "nbformat": 4,
 "nbformat_minor": 2
}
